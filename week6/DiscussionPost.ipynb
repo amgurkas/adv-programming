{
  "nbformat": 4,
  "nbformat_minor": 0,
  "metadata": {
    "colab": {
      "provenance": [],
      "authorship_tag": "ABX9TyMzvWzfPTS7iTmhhLXoGsMG",
      "include_colab_link": true
    },
    "kernelspec": {
      "name": "python3",
      "display_name": "Python 3"
    },
    "language_info": {
      "name": "python"
    }
  },
  "cells": [
    {
      "cell_type": "markdown",
      "metadata": {
        "id": "view-in-github",
        "colab_type": "text"
      },
      "source": [
        "<a href=\"https://colab.research.google.com/github/amgurkas/adv-programming/blob/main/week6/DiscussionPost.ipynb\" target=\"_parent\"><img src=\"https://colab.research.google.com/assets/colab-badge.svg\" alt=\"Open In Colab\"/></a>"
      ]
    },
    {
      "cell_type": "code",
      "execution_count": null,
      "metadata": {
        "id": "NkeL-83MAAya"
      },
      "outputs": [],
      "source": [
        "# 1. What are the similarities and differences between pandas and numpy?\n",
        "# Include some type of example with code.\n",
        "\n",
        "# Both pandas and NumPy are libraries used for working with data, but they serve\n",
        "# slightly different purposes. I often use NumPy for numeric computations and\n",
        "# pandas when I need labeled, tabular data\n",
        "\n",
        "# Similarities: vectorized operations and efficiency\n",
        "# Differences: data structures, handling of mixed types, missing values\n",
        "\n",
        "### Ex. Code:\n",
        "import pandas as pd\n",
        "import NumPy as np\n",
        "\n",
        "df = pd.DataFrame({\n",
        "    \"Name\": [\"Alice\", \"Bob\", \"Charlie\"],\n",
        "    \"Age\": [25, 30, 35],\n",
        "    \"Salary\": [50000, 60000, 70000]\n",
        "})\n",
        "print(df)\n",
        "\n",
        "arr = np.array([[25, 50000], [30, 60000], [35, 70000]])\n",
        "print(arr)\n",
        "\n",
        "# Notice that the NumPy array cannot easily store names without converting\n",
        "# everything to strings\n",
        "\n",
        "\n",
        "\n",
        "# 2. What is the ndarray in numPy?\n",
        "# A NumPy ndarray, short for N-dimensional array, is a core component of NumPy.\n",
        "# It efficiently stores and manipulates large, homogeneous datasets of the same\n",
        "# data type. Its multi-dimensional structure is well-suited for complex data in\n",
        "# scientific computing and data analysis, enabling fast and memory-efficient\n",
        "# operations.\n",
        "# (Source: https://www.geeksforgeeks.org/numpy/numpy-ndarray/)\n",
        "\n",
        "# 3. Create a 1D array of numbers from 0 to 9\n",
        "# Desired Output:\n",
        "# array([0, 1, 2, 3, 4, 5, 6, 7, 8, 9])\n",
        "# 4. Extract all odd numbers from array1\n",
        "# array1 = np.array([0, 1, 2, 3, 4, 5, 6, 7, 8, 9])\n",
        "# 5. Get the common items between a and  b\n",
        "#input\n",
        "# a = np.array([1,2,3,2,3,4,3,4,5,6])\n",
        "# b = np.array([7,2,10,2,7,4,9,4,9,8])\n",
        "\n",
        "#Desired Output:\n",
        "\n",
        "# array([2, 4])\n",
        "# 6. From array a remove all items present in array  b\n",
        "#Input:\n",
        "\n",
        "# a = np.array([1,2,3,4,5])\n",
        "# b = np.array([5,6,7,8,9])\n",
        "\n",
        "#Desired Output:\n",
        "\n",
        "# array([1,2,3,4])\n",
        "# 7. Find out if iris has any missing values.\n",
        "# Input\n",
        "# url = 'https://archive.ics.uci.edu/ml/machine-learning-databases/iris/iris.data'\n",
        "# iris = np.genfromtxt(url, delimiter=',', dtype='float', usecols=[0,1,2,3])"
      ]
    }
  ]
}