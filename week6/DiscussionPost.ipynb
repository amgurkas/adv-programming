{
  "nbformat": 4,
  "nbformat_minor": 0,
  "metadata": {
    "colab": {
      "provenance": [],
      "authorship_tag": "ABX9TyMbPw7A/bJbEk2CCSCnDS4K",
      "include_colab_link": true
    },
    "kernelspec": {
      "name": "python3",
      "display_name": "Python 3"
    },
    "language_info": {
      "name": "python"
    }
  },
  "cells": [
    {
      "cell_type": "markdown",
      "metadata": {
        "id": "view-in-github",
        "colab_type": "text"
      },
      "source": [
        "<a href=\"https://colab.research.google.com/github/amgurkas/adv-programming/blob/main/week6/DiscussionPost.ipynb\" target=\"_parent\"><img src=\"https://colab.research.google.com/assets/colab-badge.svg\" alt=\"Open In Colab\"/></a>"
      ]
    },
    {
      "cell_type": "code",
      "execution_count": 2,
      "metadata": {
        "id": "NkeL-83MAAya",
        "colab": {
          "base_uri": "https://localhost:8080/"
        },
        "outputId": "e666b843-8227-483f-f6e2-4c1b480bccaa"
      },
      "outputs": [
        {
          "output_type": "stream",
          "name": "stdout",
          "text": [
            "      Name  Age  Salary\n",
            "0    Alice   25   50000\n",
            "1      Bob   30   60000\n",
            "2  Charlie   35   70000\n",
            "[[   25 50000]\n",
            " [   30 60000]\n",
            " [   35 70000]]\n",
            "[1 3 5 7 9]\n",
            "[2 4]\n",
            "[1 2 3 4]\n",
            "Are there any missing values in the Iris dataset? False\n"
          ]
        }
      ],
      "source": [
        "# 1. What are the similarities and differences between pandas and numpy?\n",
        "# Include some type of example with code.\n",
        "\n",
        "# Response:\n",
        "# Both pandas and NumPy are libraries used for working with data, but they serve\n",
        "# slightly different purposes. I often use NumPy for numeric computations and\n",
        "# pandas when I need labeled, tabular data\n",
        "\n",
        "# Similarities: vectorized operations and efficiency\n",
        "# Differences: data structures, handling of mixed types, missing values\n",
        "\n",
        "### Ex. Code:\n",
        "import pandas as pd\n",
        "import numpy as np\n",
        "\n",
        "df = pd.DataFrame({\n",
        "    \"Name\": [\"Alice\", \"Bob\", \"Charlie\"],\n",
        "    \"Age\": [25, 30, 35],\n",
        "    \"Salary\": [50000, 60000, 70000]\n",
        "})\n",
        "print(df)\n",
        "\n",
        "arr = np.array([[25, 50000], [30, 60000], [35, 70000]])\n",
        "print(arr)\n",
        "\n",
        "# Notice that the NumPy array cannot easily store names without converting\n",
        "# everything to strings\n",
        "\n",
        "# 2. What is the ndarray in numPy?\n",
        "# A NumPy ndarray, short for N-dimensional array, is a core component of NumPy.\n",
        "# It efficiently stores and manipulates large, homogeneous datasets of the same\n",
        "# data type. Its multi-dimensional structure is well-suited for complex data in\n",
        "# scientific computing and data analysis, enabling fast and memory-efficient\n",
        "# operations.\n",
        "# (Source: https://www.geeksforgeeks.org/numpy/numpy-ndarray/)\n",
        "\n",
        "# 3. Create a 1D array of numbers from 0 to 9\n",
        "\n",
        "# Desired Output:\n",
        "# array([0, 1, 2, 3, 4, 5, 6, 7, 8, 9])\n",
        "\n",
        "arr_q_3 = np.array([0, 1, 2, 3, 4, 5, 6, 7, 8, 9])\n",
        "\n",
        "# 4. Extract all odd numbers from array1\n",
        "\n",
        "array1 = np.array([0, 1, 2, 3, 4, 5, 6, 7, 8, 9])\n",
        "odd_numbers = array1[array1 % 2 != 0]\n",
        "print(odd_numbers)\n",
        "\n",
        "\n",
        "# 5. Get the common items between a and  b\n",
        "\n",
        "#input\n",
        "a = np.array([1,2,3,2,3,4,3,4,5,6])\n",
        "b = np.array([7,2,10,2,7,4,9,4,9,8])\n",
        "\n",
        "#Desired Output:\n",
        "# array([2, 4])\n",
        "\n",
        "common_items = np.intersect1d(a, b)\n",
        "print(common_items)\n",
        "\n",
        "\n",
        "# 6. From array a remove all items present in array  b\n",
        "\n",
        "#Input:\n",
        "a = np.array([1,2,3,4,5])\n",
        "b = np.array([5,6,7,8,9])\n",
        "\n",
        "#Desired Output:\n",
        "# array([1,2,3,4])\n",
        "\n",
        "removed_items = np.setdiff1d(a, b)\n",
        "print(removed_items)\n",
        "\n",
        "\n",
        "# 7. Find out if iris has any missing values.\n",
        "# Input\n",
        "url = 'https://archive.ics.uci.edu/ml/machine-learning-databases/iris/iris.data'\n",
        "iris = np.genfromtxt(url, delimiter=',', dtype='float', usecols=[0,1,2,3])\n",
        "\n",
        "# Check for missing values\n",
        "missing_values = np.isnan(iris).any()\n",
        "print(f\"Are there any missing values in the Iris dataset? {missing_values}\")"
      ]
    }
  ]
}