{
  "cells": [
    {
      "cell_type": "markdown",
      "metadata": {
        "id": "view-in-github",
        "colab_type": "text"
      },
      "source": [
        "<a href=\"https://colab.research.google.com/github/amgurkas/adv-programming/blob/main/assignment_01.ipynb\" target=\"_parent\"><img src=\"https://colab.research.google.com/assets/colab-badge.svg\" alt=\"Open In Colab\"/></a>"
      ]
    },
    {
      "cell_type": "code",
      "execution_count": 1,
      "metadata": {
        "colab": {
          "base_uri": "https://localhost:8080/"
        },
        "id": "pTMdxidpgM_k",
        "outputId": "92d1c0c9-c8b5-4c38-aa86-4cea0ece6770"
      },
      "outputs": [
        {
          "output_type": "stream",
          "name": "stdout",
          "text": [
            "Hello, world!\n"
          ]
        }
      ],
      "source": [
        "#Q1 Fix all the syntax and logical errors in the given source code\n",
        "#add comments to explain your reasoning\n",
        "\n",
        "# This program gets three test scores and displays their average.  It congratulates the user if the\n",
        "# average is a high score. The high score variable holds the value that is considered a high score.\n",
        "\n",
        "HIGH_SCORE = 95\n",
        "\n",
        "# Get the test scores.\n",
        "test1 = input('Enter the score for test 1: ')\n",
        "test2 = input('Enter the score for test 2: ')\n",
        "# Calculate the average test score.\n",
        "average = (test1 + test2 + test3) / 3\n",
        "# Print the average.\n",
        "print('The average score is', average)\n",
        "# If the average is a high score,\n",
        "# congratulate the user.\n",
        "if average >= high_score:\n",
        "    print('Congratulations!')\n",
        "print('That is a great average!')\n",
        "\n",
        "#Q2\n",
        "#The area of a rectangle is the rectangle’s length times its width. Write a program that asks for the length and width of two rectangles and prints to the user the area of both rectangles.\n",
        "\n",
        "\n",
        "#Q3\n",
        "#Ask a user to enter their first name and their age and assign it to the variables name and age.\n",
        "#The variable name should be a string and the variable age should be an int.\n",
        "\n",
        "#Using the variables name and age, print a message to the user stating something along the lines of:\n",
        "# \"Happy birthday, name!  You are age years old today!\"\n"
      ]
    }
  ],
  "metadata": {
    "kernelspec": {
      "display_name": "Python 3",
      "language": "python",
      "name": "python3"
    },
    "language_info": {
      "file_extension": ".py",
      "mimetype": "text/x-python",
      "name": "python",
      "pygments_lexer": "ipython3"
    },
    "colab": {
      "provenance": [],
      "include_colab_link": true
    }
  },
  "nbformat": 4,
  "nbformat_minor": 0
}