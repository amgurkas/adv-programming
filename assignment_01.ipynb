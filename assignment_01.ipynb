{
  "cells": [
    {
      "cell_type": "markdown",
      "metadata": {
        "id": "view-in-github",
        "colab_type": "text"
      },
      "source": [
        "<a href=\"https://colab.research.google.com/github/amgurkas/adv-programming/blob/main/assignment_01.ipynb\" target=\"_parent\"><img src=\"https://colab.research.google.com/assets/colab-badge.svg\" alt=\"Open In Colab\"/></a>"
      ]
    },
    {
      "cell_type": "code",
      "execution_count": 18,
      "metadata": {
        "colab": {
          "base_uri": "https://localhost:8080/"
        },
        "id": "pTMdxidpgM_k",
        "outputId": "14478513-ff50-4c0b-864b-0058a319ccac"
      },
      "outputs": [
        {
          "output_type": "stream",
          "name": "stdout",
          "text": [
            "Enter the score for test 1: 90\n",
            "Enter the score for test 2: 100\n",
            "Enter the score for test 3: 98\n",
            "The average score is 96.0\n",
            "Congratulations!\n",
            "That is a great average!\n"
          ]
        }
      ],
      "source": [
        "#Q1 Fix all the syntax and logical errors in the given source code\n",
        "#add comments to explain your reasoning\n",
        "\n",
        "# This program gets three test scores and displays their average.\n",
        "# It congratulates the user if the average is a high score. The high score\n",
        "# variable holds the value that is considered a high score.\n",
        "\n",
        "HIGH_SCORE = 95\n",
        "\n",
        "# Get the test scores.\n",
        "# The input function returns a string, so we need to convert the input to integers\n",
        "test1 = int(input('Enter the score for test 1: '))\n",
        "test2 = int(input('Enter the score for test 2: '))\n",
        "test3 = int(input('Enter the score for test 3: '))\n",
        "# Calculate the average test score.\n",
        "average = (test1 + test2 + test3) / 3\n",
        "# Print the average.\n",
        "print('The average score is', average)\n",
        "# If the average is a high score,\n",
        "# congratulate the user.\n",
        "if average >= HIGH_SCORE:\n",
        "    print('Congratulations!')\n",
        "print('That is a great average!')"
      ]
    },
    {
      "cell_type": "code",
      "source": [
        "#Q2\n",
        "# The area of a rectangle is the rectangle’s length times its width.\n",
        "# Write a program that asks for the length and width of two rectangles and\n",
        "# prints to the user the area of both rectangles.\n",
        "width_1 = int(input('Enter the width of the first rectangle: '))\n",
        "length_1 = int(input('Enter the length of the first rectangle: '))\n",
        "area_1 = width_1 * length_1\n",
        "width_2 = int(input('Enter the width of the second rectangle: '))\n",
        "length_2 = int(input('Enter the length of the second rectangle: '))\n",
        "area_2 = width_2 * length_2\n",
        "print('The area of the rectangles are: \\n',\n",
        "      'Rectangle 1: ',\n",
        "      area_1,\n",
        "      \"Rectangle 2: \",\n",
        "      area_2)"
      ],
      "metadata": {
        "colab": {
          "base_uri": "https://localhost:8080/"
        },
        "id": "SGuxh64C6mwN",
        "outputId": "8a2f44b6-151d-441f-8209-65933340ecc2"
      },
      "execution_count": 17,
      "outputs": [
        {
          "output_type": "stream",
          "name": "stdout",
          "text": [
            "Enter the width of the first rectangle: 1\n",
            "Enter the length of the first rectangle: 2\n",
            "Enter the width of the second rectangle: 3\n",
            "Enter the length of the second rectangle: 4\n",
            "The area of the rectangles are: \n",
            " Rectangle 1:  2 Rectangle 2:  12\n"
          ]
        }
      ]
    },
    {
      "cell_type": "code",
      "source": [
        "#Q3\n",
        "#Ask a user to enter their first name and their age and assign it to the\n",
        "#variables name and age. The variable name should be a string and the\n",
        "# variable age should be an int.\n",
        "name = str(input('Enter your first name: '))\n",
        "age = int(input('Enter your age: '))\n",
        "result = f\"Happy birthday {name}! You are {age} years old today!\"\n",
        "\n",
        "#Using the variables name and age, print a message to the user stating something\n",
        "# along the lines of: \"Happy birthday, name!  You are age years old today!\"\n",
        "print(result)"
      ],
      "metadata": {
        "colab": {
          "base_uri": "https://localhost:8080/"
        },
        "id": "4yc7y4CHmEEF",
        "outputId": "140c5c82-2467-4990-c87a-b5071c6cded4"
      },
      "execution_count": 15,
      "outputs": [
        {
          "output_type": "stream",
          "name": "stdout",
          "text": [
            "Enter your first name: Alyssa\n",
            "Enter your age: 30\n",
            "Happy birthday Alyssa! You are 30 years old today.\n"
          ]
        }
      ]
    }
  ],
  "metadata": {
    "kernelspec": {
      "display_name": "Python 3",
      "language": "python",
      "name": "python3"
    },
    "language_info": {
      "file_extension": ".py",
      "mimetype": "text/x-python",
      "name": "python",
      "pygments_lexer": "ipython3"
    },
    "colab": {
      "provenance": [],
      "include_colab_link": true
    }
  },
  "nbformat": 4,
  "nbformat_minor": 0
}