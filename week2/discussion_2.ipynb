# creating file for discussion 2 code  
