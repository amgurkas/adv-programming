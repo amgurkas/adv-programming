{
  "cells": [
    {
      "cell_type": "code",
      "execution_count": null,
      "metadata": {
        "id": "-DXUsJF_AKZ2"
      },
      "outputs": [],
      "source": [
        "# 1. Create a variable y and set it to 5\n",
        "y = 5\n",
        "# 2. Create a string variable called first_name and set it to your first name.\n",
        "first_name = \"Alyssa\"\n",
        "# 3. Create a string variable called last_name and set it to your last name.\n",
        "last_name = \"Gurkas\"\n",
        "# 4. Create a string variable called full_name and set it equal to your full name using variables above.\n",
        "full_name = first_name + last_name\n",
        "# 5. Assign 20 to the variable hours_worked, 15 to the variable wage_per_hour and the product of the two to variable total_pay\n",
        "hours_worked = 20\n",
        "wage_per_hour = 15\n",
        "total_pay = hours_worked * wage_per_hour\n",
        "# 6. Create a variable called x and set it to 10. Then create a variable y that equals to x to the 7th power\n",
        "x = 10\n",
        "y = x ** 7\n",
        "# You must respond to at least one other classmate.\n",
        "# You must start a thread before you can read and reply to other threads"
      ]
    }
  ],
  "metadata": {
    "kernelspec": {
      "display_name": "Python 3",
      "language": "python",
      "name": "python3"
    },
    "language_info": {
      "file_extension": ".py",
      "mimetype": "text/x-python",
      "name": "python",
      "pygments_lexer": "ipython3"
    },
    "colab": {
      "provenance": []
    }
  },
  "nbformat": 4,
  "nbformat_minor": 0
}