{
  "cells": [
    {
      "cell_type": "code",
      "execution_count": null,
      "metadata": {
        "id": "24FYhLYJbObQ"
      },
      "outputs": [],
      "source": [
        "# Q1. What will the following code display?\n",
        "numbers = [1, 2, 3, 4, 5]\n",
        "print(numbers[1:-5])\n",
        "# Can you debug and fix the output? The code should return the entire list"
      ]
    },
    {
      "cell_type": "code",
      "source": [
        "# Q2. Design a program that asks the user to enter a store’s sales for each day of the\n",
        "# week. The amounts should be stored in a list. Use a loop to calculate the total sales for\n",
        "# the week and display the result."
      ],
      "metadata": {
        "id": "DCd7ecOnbutL"
      },
      "execution_count": null,
      "outputs": []
    },
    {
      "cell_type": "code",
      "source": [
        "# Q3. Create a list with at least 5 places you’d like to travel to. Make sure the list isn’t in\n",
        "# alphabetical order\n",
        "# ● Print your list in its original order.\n",
        "# ● Use the sort() function to arrange your list in order and reprint your list.\n",
        "# ● Use the sort(reverse=True) and reprint your list."
      ],
      "metadata": {
        "id": "jT_1MDczcXgC"
      },
      "execution_count": null,
      "outputs": []
    },
    {
      "cell_type": "code",
      "source": [
        "# Q4. Write a program that creates a dictionary containing course numbers and the room\n",
        "# numbers of the rooms where the courses meet. The program should also create a\n",
        "# dictionary containing course numbers and the names of the instructors that teach each\n",
        "# course. After that, the program should let the user enter a course number, then it should\n",
        "# display the course’s room number, instructor, and meeting time."
      ],
      "metadata": {
        "id": "xBJCOZwhcb-T"
      },
      "execution_count": null,
      "outputs": []
    },
    {
      "cell_type": "code",
      "source": [
        "# Q5. Write a program that keeps names and email addresses in a dictionary as\n",
        "# key-value pairs. The program should then demonstrate the four options:\n",
        "# ● look up a person’s email address,\n",
        "# ● add a new name and email address,\n",
        "# ● change an existing email address, and\n",
        "# ● delete an existing name and email address."
      ],
      "metadata": {
        "id": "8KumeUpMch49"
      },
      "execution_count": null,
      "outputs": []
    }
  ],
  "metadata": {
    "kernelspec": {
      "display_name": "Python 3",
      "language": "python",
      "name": "python3"
    },
    "language_info": {
      "file_extension": ".py",
      "mimetype": "text/x-python",
      "name": "python",
      "pygments_lexer": "ipython3"
    },
    "colab": {
      "provenance": []
    }
  },
  "nbformat": 4,
  "nbformat_minor": 0
}