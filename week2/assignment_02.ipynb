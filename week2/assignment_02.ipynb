{
  "cells": [
    {
      "cell_type": "markdown",
      "metadata": {
        "id": "view-in-github",
        "colab_type": "text"
      },
      "source": [
        "<a href=\"https://colab.research.google.com/github/amgurkas/adv-programming/blob/main/week2/assignment_02.ipynb\" target=\"_parent\"><img src=\"https://colab.research.google.com/assets/colab-badge.svg\" alt=\"Open In Colab\"/></a>"
      ]
    },
    {
      "cell_type": "code",
      "execution_count": null,
      "metadata": {
        "colab": {
          "base_uri": "https://localhost:8080/"
        },
        "id": "24FYhLYJbObQ",
        "outputId": "6ed5b116-238d-49e4-8f51-da9571568e33"
      },
      "outputs": [
        {
          "output_type": "stream",
          "name": "stdout",
          "text": [
            "[]\n",
            "[1, 2, 3, 4, 5]\n"
          ]
        }
      ],
      "source": [
        "# Q1. What will the following code display?\n",
        "numbers = [1, 2, 3, 4, 5]\n",
        "print(numbers[1:-5])\n",
        "\n",
        "# The result does not show anything, because -5 is not a legitimate value.\n",
        "\n",
        "# Can you debug and fix the output? The code should return the entire list\n",
        "print(numbers[0:5])"
      ]
    },
    {
      "cell_type": "code",
      "source": [
        "# Q2. Design a program that asks the user to enter a store’s sales for each day of the\n",
        "# week. The amounts should be stored in a list. Use a loop to calculate the total sales for\n",
        "# the week and display the result.\n",
        "\n",
        "user_message = \"Please enter sales for each day of the week. \"\n",
        "num_days = 7\n",
        "sales_list = [] # Initialize an empty list to store sales\n",
        "\n",
        "total_sales = 0 # Initialize total sales\n",
        "\n",
        "for day in range(num_days):\n",
        "    sales = float(input(user_message + f\"Enter sales for day {day + 1}: $\"))\n",
        "    sales_list.append(sales) # Append the sales to the list\n",
        "    total_sales += sales # Add sales to the total\n",
        "\n",
        "print(f\"Total sales for the week: ${total_sales:.2f}\")\n",
        "\n"
      ],
      "metadata": {
        "colab": {
          "base_uri": "https://localhost:8080/"
        },
        "id": "DCd7ecOnbutL",
        "outputId": "c9df9d5e-fa31-4a3c-b1e5-d1bf1df3c7a4"
      },
      "execution_count": null,
      "outputs": [
        {
          "output_type": "stream",
          "name": "stdout",
          "text": [
            "Please enter sales for each day of the week. Enter sales for day 1: $0\n",
            "Please enter sales for each day of the week. Enter sales for day 2: $1\n",
            "Please enter sales for each day of the week. Enter sales for day 3: $2\n",
            "Please enter sales for each day of the week. Enter sales for day 4: $3\n",
            "Please enter sales for each day of the week. Enter sales for day 5: $4\n",
            "Please enter sales for each day of the week. Enter sales for day 6: $5\n",
            "Please enter sales for each day of the week. Enter sales for day 7: $6\n",
            "Total sales for the week: $21.00\n"
          ]
        }
      ]
    },
    {
      "cell_type": "code",
      "source": [
        "# Q3. Create a list with at least 5 places you’d like to travel to. Make sure the list isn’t in\n",
        "# alphabetical order\n",
        "# ● Print your list in its original order.\n",
        "# ● Use the sort() function to arrange your list in order and reprint your list.\n",
        "# ● Use the sort(reverse=True) and reprint your list.\n",
        "\n",
        "# list of places I'd like to visit\n",
        "travel = [\"Lima\",\"Las Vegas\", \"New Orleans\", \"Mexico City\", \"Valletta\", \"San Carlos de Bariloche\"]\n",
        "# printing original list\n",
        "print(travel)\n",
        "# creating new df w/ travel sorted\n",
        "travel_sorted = sorted(travel)\n",
        "# printing sorted travel list\n",
        "print(travel_sorted)\n",
        "# reversing the order of the travel list\n",
        "travel_sorted_v2 = sorted(travel_sorted, reverse=True)\n",
        "# printing reverse order\n",
        "print(travel_sorted_v2)"
      ],
      "metadata": {
        "colab": {
          "base_uri": "https://localhost:8080/"
        },
        "id": "jT_1MDczcXgC",
        "outputId": "78a14074-6005-4bae-ddbd-26c992cbeaae"
      },
      "execution_count": null,
      "outputs": [
        {
          "output_type": "stream",
          "name": "stdout",
          "text": [
            "['Lima', 'Las Vegas', 'New Orleans', 'Mexico City', 'Valletta', 'San Carlos de Bariloche']\n",
            "['Las Vegas', 'Lima', 'Mexico City', 'New Orleans', 'San Carlos de Bariloche', 'Valletta']\n",
            "['Valletta', 'San Carlos de Bariloche', 'New Orleans', 'Mexico City', 'Lima', 'Las Vegas']\n"
          ]
        }
      ]
    },
    {
      "cell_type": "code",
      "source": [
        "# Q4. Write a program that creates a dictionary containing course numbers and the room\n",
        "# numbers of the rooms where the courses meet. The program should also create a\n",
        "# dictionary containing course numbers and the names of the instructors that teach each\n",
        "# course. After that, the program should let the user enter a course number, then it should\n",
        "# display the course’s room number, instructor, and meeting time.\n",
        "\n",
        "# method without pandas\n",
        "room_numbers = {\n",
        "    605: 22,\n",
        "    607: 35,\n",
        "    602: 38,\n",
        "    624: 55\n",
        "}\n",
        "\n",
        "instructors = {\n",
        "    605: \"Bryer\",\n",
        "    607: \"Lui\",\n",
        "    602: \"Kowalchuk\",\n",
        "    624: \"Burk\"\n",
        "}\n",
        "\n",
        "meeting_times = {\n",
        "    605: \"14:00\",\n",
        "    607: \"17:00\",\n",
        "    602: \"13:00\",\n",
        "    624: \"15:00\"\n",
        "}\n",
        "\n",
        "student_message = \"Please enter the course number. \"\n",
        "course_number = int(input(student_message))\n",
        "\n",
        "if course_number in room_numbers:\n",
        "    print(\"Room:\", room_numbers[course_number])\n",
        "    print(\"Instructor:\", instructors[course_number])\n",
        "    print(\"Time:\", meeting_times[course_number])\n",
        "else:\n",
        "    print(\"That course number was not found.\")\n",
        "\n",
        "# method with pandas\n",
        "import pandas as pd\n",
        "\n",
        "dict = {\n",
        "    'course_number':[605,607,602,624],\n",
        "    'room_number':[22,35,38,55],\n",
        "    'instructor_name':['Bryer','Lui','Kowalchuk','Burk'],\n",
        "    'meeting_time':['14:00','17:00','13:00','15:00']\n",
        "}\n",
        "\n",
        "df = pd.DataFrame(dict)\n",
        "\n",
        "# Check if the number exists in the column\n",
        "if course_number in df['course_number'].values:\n",
        "    row = df.loc[df['course_number'] == course_number]\n",
        "    print(\"Room:\", row['room_number'].values[0])\n",
        "    print(\"Instructor:\", row['instructor_name'].values[0])\n",
        "    print(\"Time:\", row['meeting_time'].values[0])\n",
        "else:\n",
        "    print(\"That course number was not found.\")\n"
      ],
      "metadata": {
        "id": "xBJCOZwhcb-T",
        "colab": {
          "base_uri": "https://localhost:8080/"
        },
        "outputId": "f8f62a7e-dd95-4875-a215-7963c7fd9b3b"
      },
      "execution_count": 8,
      "outputs": [
        {
          "output_type": "stream",
          "name": "stdout",
          "text": [
            "Please enter the course number. 607\n",
            "Room: 35\n",
            "Instructor: Lui\n",
            "Time: 17:00\n",
            "Room: 35\n",
            "Instructor: Lui\n",
            "Time: 17:00\n"
          ]
        }
      ]
    },
    {
      "cell_type": "code",
      "source": [
        "# Q5. Write a program that keeps names and email addresses in a dictionary as\n",
        "# key-value pairs. The program should then demonstrate the four options:\n",
        "# ● look up a person’s email address,\n",
        "# ● add a new name and email address,\n",
        "# ● change an existing email address, and\n",
        "# ● delete an existing name and email address.\n",
        "\n",
        "contacts = {\n",
        "    'Johnny Utah': 'utah.johnny@gmail.com',\n",
        "    'Liz Lemon': 'lemon.liz@gmail.com'\n",
        "}\n",
        "\n",
        "print(\"Menu:\")\n",
        "print(\"1. Look up an email\")\n",
        "print(\"2. Add a new contact\")\n",
        "print(\"3. Change an email\")\n",
        "print(\"4. Delete a contact\")\n",
        "\n",
        "choice = int(input(\"Enter your choice (1-4): \"))\n",
        "\n",
        "if choice == 1:\n",
        "    name = input(\"Enter the name: \")\n",
        "    if name in contacts:\n",
        "        print(name, \"->\", contacts[name])\n",
        "    else:\n",
        "        print(\"That name was not found.\")\n",
        "\n",
        "elif choice == 2:\n",
        "    name = input(\"Enter the new name: \")\n",
        "    email = input(\"Enter the new email: \")\n",
        "    contacts[name] = email\n",
        "    print(\"Contact added.\")\n",
        "\n",
        "elif choice == 3:\n",
        "    name = input(\"Enter the name to change: \")\n",
        "    if name in contacts:\n",
        "        email = input(\"Enter the new email: \")\n",
        "        contacts[name] = email\n",
        "        print(\"Email updated.\")\n",
        "    else:\n",
        "        print(\"That name was not found.\")\n",
        "\n",
        "elif choice == 4:\n",
        "    name = input(\"Enter the name to delete: \")\n",
        "    if name in contacts:\n",
        "        del contacts[name]\n",
        "        print(\"Contact deleted.\")\n",
        "    else:\n",
        "        print(\"That name was not found.\")\n",
        "\n",
        "else:\n",
        "    print(\"Invalid choice.\")"
      ],
      "metadata": {
        "id": "8KumeUpMch49",
        "colab": {
          "base_uri": "https://localhost:8080/"
        },
        "outputId": "ae35bd39-5572-49d0-cdbf-303bced6a032"
      },
      "execution_count": 12,
      "outputs": [
        {
          "output_type": "stream",
          "name": "stdout",
          "text": [
            "Menu:\n",
            "1. Look up an email\n",
            "2. Add a new contact\n",
            "3. Change an email\n",
            "4. Delete a contact\n",
            "Enter your choice (1-4): 2\n",
            "Enter the new name: Jack Donaghy\n",
            "Enter the new email: donaghy.jack@gmail.com\n",
            "Contact added.\n"
          ]
        }
      ]
    }
  ],
  "metadata": {
    "kernelspec": {
      "display_name": "Python 3",
      "language": "python",
      "name": "python3"
    },
    "language_info": {
      "file_extension": ".py",
      "mimetype": "text/x-python",
      "name": "python",
      "pygments_lexer": "ipython3"
    },
    "colab": {
      "provenance": [],
      "include_colab_link": true
    }
  },
  "nbformat": 4,
  "nbformat_minor": 0
}