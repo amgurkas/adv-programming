{
  "cells": [
    {
      "cell_type": "markdown",
      "metadata": {
        "id": "view-in-github",
        "colab_type": "text"
      },
      "source": [
        "<a href=\"https://colab.research.google.com/github/amgurkas/adv-programming/blob/main/week2/assignment_02.ipynb\" target=\"_parent\"><img src=\"https://colab.research.google.com/assets/colab-badge.svg\" alt=\"Open In Colab\"/></a>"
      ]
    },
    {
      "cell_type": "code",
      "execution_count": 11,
      "metadata": {
        "colab": {
          "base_uri": "https://localhost:8080/"
        },
        "id": "24FYhLYJbObQ",
        "outputId": "6ed5b116-238d-49e4-8f51-da9571568e33"
      },
      "outputs": [
        {
          "output_type": "stream",
          "name": "stdout",
          "text": [
            "[]\n",
            "[1, 2, 3, 4, 5]\n"
          ]
        }
      ],
      "source": [
        "# Q1. What will the following code display?\n",
        "numbers = [1, 2, 3, 4, 5]\n",
        "print(numbers[1:-5])\n",
        "\n",
        "# The result does not show anything, because -5 is not a legitimate value.\n",
        "\n",
        "# Can you debug and fix the output? The code should return the entire list\n",
        "print(numbers[0:5])"
      ]
    },
    {
      "cell_type": "code",
      "source": [
        "# Q2. Design a program that asks the user to enter a store’s sales for each day of the\n",
        "# week. The amounts should be stored in a list. Use a loop to calculate the total sales for\n",
        "# the week and display the result.\n",
        "\n",
        "user_message = \"Please enter sales for each day of the week. \"\n",
        "num_days = 7\n",
        "sales_list = [] # Initialize an empty list to store sales\n",
        "\n",
        "total_sales = 0 # Initialize total sales\n",
        "\n",
        "for day in range(num_days):\n",
        "    sales = float(input(user_message + f\"Enter sales for day {day + 1}: $\"))\n",
        "    sales_list.append(sales) # Append the sales to the list\n",
        "    total_sales += sales # Add sales to the total\n",
        "\n",
        "print(f\"Total sales for the week: ${total_sales:.2f}\")\n",
        "\n"
      ],
      "metadata": {
        "colab": {
          "base_uri": "https://localhost:8080/"
        },
        "id": "DCd7ecOnbutL",
        "outputId": "c9df9d5e-fa31-4a3c-b1e5-d1bf1df3c7a4"
      },
      "execution_count": 18,
      "outputs": [
        {
          "output_type": "stream",
          "name": "stdout",
          "text": [
            "Please enter sales for each day of the week. Enter sales for day 1: $0\n",
            "Please enter sales for each day of the week. Enter sales for day 2: $1\n",
            "Please enter sales for each day of the week. Enter sales for day 3: $2\n",
            "Please enter sales for each day of the week. Enter sales for day 4: $3\n",
            "Please enter sales for each day of the week. Enter sales for day 5: $4\n",
            "Please enter sales for each day of the week. Enter sales for day 6: $5\n",
            "Please enter sales for each day of the week. Enter sales for day 7: $6\n",
            "Total sales for the week: $21.00\n"
          ]
        }
      ]
    },
    {
      "cell_type": "code",
      "source": [
        "# Q3. Create a list with at least 5 places you’d like to travel to. Make sure the list isn’t in\n",
        "# alphabetical order\n",
        "# ● Print your list in its original order.\n",
        "# ● Use the sort() function to arrange your list in order and reprint your list.\n",
        "# ● Use the sort(reverse=True) and reprint your list.\n",
        "\n",
        "# list of places I'd like to visit\n",
        "travel = [\"Lima\",\"Las Vegas\", \"New Orleans\", \"Mexico City\", \"Valletta\", \"San Carlos de Bariloche\"]\n",
        "# printing original list\n",
        "print(travel)\n",
        "# creating new df w/ travel sorted\n",
        "travel_sorted = sorted(travel)\n",
        "# printing sorted travel list\n",
        "print(travel_sorted)\n",
        "# reversing the order of the travel list\n",
        "travel_sorted_v2 = sorted(travel_sorted, reverse=True)\n",
        "# printing reverse order\n",
        "print(travel_sorted_v2)"
      ],
      "metadata": {
        "colab": {
          "base_uri": "https://localhost:8080/"
        },
        "id": "jT_1MDczcXgC",
        "outputId": "78a14074-6005-4bae-ddbd-26c992cbeaae"
      },
      "execution_count": 19,
      "outputs": [
        {
          "output_type": "stream",
          "name": "stdout",
          "text": [
            "['Lima', 'Las Vegas', 'New Orleans', 'Mexico City', 'Valletta', 'San Carlos de Bariloche']\n",
            "['Las Vegas', 'Lima', 'Mexico City', 'New Orleans', 'San Carlos de Bariloche', 'Valletta']\n",
            "['Valletta', 'San Carlos de Bariloche', 'New Orleans', 'Mexico City', 'Lima', 'Las Vegas']\n"
          ]
        }
      ]
    },
    {
      "cell_type": "code",
      "source": [
        "# Q4. Write a program that creates a dictionary containing course numbers and the room\n",
        "# numbers of the rooms where the courses meet. The program should also create a\n",
        "# dictionary containing course numbers and the names of the instructors that teach each\n",
        "# course. After that, the program should let the user enter a course number, then it should\n",
        "# display the course’s room number, instructor, and meeting time."
      ],
      "metadata": {
        "id": "xBJCOZwhcb-T"
      },
      "execution_count": null,
      "outputs": []
    },
    {
      "cell_type": "code",
      "source": [
        "# Q5. Write a program that keeps names and email addresses in a dictionary as\n",
        "# key-value pairs. The program should then demonstrate the four options:\n",
        "# ● look up a person’s email address,\n",
        "# ● add a new name and email address,\n",
        "# ● change an existing email address, and\n",
        "# ● delete an existing name and email address."
      ],
      "metadata": {
        "id": "8KumeUpMch49"
      },
      "execution_count": null,
      "outputs": []
    }
  ],
  "metadata": {
    "kernelspec": {
      "display_name": "Python 3",
      "language": "python",
      "name": "python3"
    },
    "language_info": {
      "file_extension": ".py",
      "mimetype": "text/x-python",
      "name": "python",
      "pygments_lexer": "ipython3"
    },
    "colab": {
      "provenance": [],
      "include_colab_link": true
    }
  },
  "nbformat": 4,
  "nbformat_minor": 0
}