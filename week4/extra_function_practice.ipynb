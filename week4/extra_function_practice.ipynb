{
  "nbformat": 4,
  "nbformat_minor": 0,
  "metadata": {
    "colab": {
      "provenance": [],
      "authorship_tag": "ABX9TyM75Xtdwx4oFYDOfAmPR/GP",
      "include_colab_link": true
    },
    "kernelspec": {
      "name": "python3",
      "display_name": "Python 3"
    },
    "language_info": {
      "name": "python"
    }
  },
  "cells": [
    {
      "cell_type": "markdown",
      "metadata": {
        "id": "view-in-github",
        "colab_type": "text"
      },
      "source": [
        "<a href=\"https://colab.research.google.com/github/amgurkas/adv-programming/blob/main/week4/extra_function_practice.ipynb\" target=\"_parent\"><img src=\"https://colab.research.google.com/assets/colab-badge.svg\" alt=\"Open In Colab\"/></a>"
      ]
    },
    {
      "cell_type": "code",
      "execution_count": null,
      "metadata": {
        "id": "Cdicd2w87LZB"
      },
      "outputs": [],
      "source": [
        "# Extra Practice\n",
        "# 1.) Write a function to calculate the area and perimeter of a rectangle.\n",
        "# 2.) Write a function to check if a number is even or not.\n",
        "# 3.) Write a Python function that accepts a string and calculate the number of upper case\n",
        "# letters and lower case letters.\n",
        "# ○ Sample string: “CUNY sps”\n",
        "# ○ # of upper case characters: 4\n",
        "# ○ # of lower case characters: 3\n",
        "# 4.) Write a Python function to sum all the numbers in a list\n",
        "# 5.) Create a function that shows an example of global vs local variables.\n",
        "# 6.) Write a Python program to create a function that takes one argument, and that\n",
        "# argument will be multiplied with an unknown given number."
      ]
    }
  ]
}