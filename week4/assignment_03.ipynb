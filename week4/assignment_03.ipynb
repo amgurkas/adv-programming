{
  "nbformat": 4,
  "nbformat_minor": 0,
  "metadata": {
    "colab": {
      "provenance": [],
      "authorship_tag": "ABX9TyN26UTL0TnfNNMNo9xBusei",
      "include_colab_link": true
    },
    "kernelspec": {
      "name": "python3",
      "display_name": "Python 3"
    },
    "language_info": {
      "name": "python"
    }
  },
  "cells": [
    {
      "cell_type": "markdown",
      "metadata": {
        "id": "view-in-github",
        "colab_type": "text"
      },
      "source": [
        "<a href=\"https://colab.research.google.com/github/amgurkas/adv-programming/blob/main/week4/assignment_03.ipynb\" target=\"_parent\"><img src=\"https://colab.research.google.com/assets/colab-badge.svg\" alt=\"Open In Colab\"/></a>"
      ]
    },
    {
      "cell_type": "code",
      "execution_count": null,
      "metadata": {
        "id": "yywtmCWUV9Xx"
      },
      "outputs": [],
      "source": [
        "# Q1: Write a program that prompts the user for a meal: breakfast, lunch, or\n",
        "# dinner. Then using if statements and else statements print the user a message\n",
        "# recommending a meal. For example, if the meal was breakfast, you could say\n",
        "# something like, “How about some bacon and eggs?”. The user may enter something\n",
        "# else in, but you only have to respond to breakfast, lunch, or dinner.\n",
        "\n",
        "prompt = input(\"What meal would you like a recommendation for?\")\n",
        "\n",
        "# Q2: The mailroom has asked you to design a simple payroll program that calculates a student employee’s gross pay, including any overtime wages. If any employee works over 20 hours in a week, the mailroom pays them 1.5 times their regular hourly pay rate for all hours over 20.\n",
        "# You should take in the user’s input for the number of hours worked, and their rate of pay.\n",
        "\n",
        "# Q3: Write a function named times_ten. The function should accept an argument and display the product of its argument multiplied times 10.\n",
        "\n",
        "\n",
        "# SQ4: Find the errors, debug the program, and then execute to show the output.\n",
        "\n",
        "def main()\n",
        "      Calories1 = input( \"How many calories are in the first food?\")\n",
        "      Calories2 = input( \"How many calories are in the first food?\")\n",
        "      showCalories(calories1, calories2)\n",
        "\n",
        "def showCalories()\n",
        "   print(“The total calories you ate today”, format(calories1 + calories2,.2f))\n",
        "\n",
        "# Q5: Write a program that uses any loop (while or for) that calculates the total of the following series of numbers:\n",
        "        #  1/30 + 2/29 + 3/28 ............. + 30/1\n",
        "\n",
        "# Q6: Write a function that computes the area of a triangle given its base and height.\n",
        "# The formula for an area of a triangle is:\n",
        "# AREA = 1/2 * BASE * HEIGHT\n",
        "\n",
        "# For example, if the base was 5 and the height was 4, the area would be 10.\n",
        "triangle_area(5, 4)   # should print 10\n"
      ]
    }
  ]
}