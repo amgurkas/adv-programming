{
  "nbformat": 4,
  "nbformat_minor": 0,
  "metadata": {
    "colab": {
      "provenance": [],
      "history_visible": true,
      "authorship_tag": "ABX9TyPb3HFj7B0zO6if3PhF7Od3",
      "include_colab_link": true
    },
    "kernelspec": {
      "name": "python3",
      "display_name": "Python 3"
    },
    "language_info": {
      "name": "python"
    }
  },
  "cells": [
    {
      "cell_type": "markdown",
      "metadata": {
        "id": "view-in-github",
        "colab_type": "text"
      },
      "source": [
        "<a href=\"https://colab.research.google.com/github/amgurkas/adv-programming/blob/main/week4/assignment_03.ipynb\" target=\"_parent\"><img src=\"https://colab.research.google.com/assets/colab-badge.svg\" alt=\"Open In Colab\"/></a>"
      ]
    },
    {
      "cell_type": "code",
      "execution_count": 32,
      "metadata": {
        "id": "yywtmCWUV9Xx",
        "colab": {
          "base_uri": "https://localhost:8080/"
        },
        "outputId": "ee468de9-6cbc-4192-b04b-199334de52c9"
      },
      "outputs": [
        {
          "output_type": "stream",
          "name": "stdout",
          "text": [
            "What meal would you like a recommendation for? breakfast\n",
            "How about an egg sandwich?\n"
          ]
        }
      ],
      "source": [
        "# Q1: Write a program that prompts the user for a meal: breakfast, lunch, or\n",
        "# dinner. Then using if statements and else statements print the user a message\n",
        "# recommending a meal. For example, if the meal was breakfast, you could say\n",
        "# something like, “How about some bacon and eggs?”. The user may enter something\n",
        "# else in, but you only have to respond to breakfast, lunch, or dinner.\n",
        "\n",
        "import pandas as pd\n",
        "import random\n",
        "\n",
        "# 1. Prompt user for meal\n",
        "prompt = input(\"What meal would you like a recommendation for? \")\n",
        "\n",
        "# 2. Define the meals dataset\n",
        "meals = {\n",
        "    'Breakfast': ['How about an egg sandwich?', 'What about waffles?', 'Would you like oatmeal?'],\n",
        "    'Lunch': ['How about a turkey sandwich?', 'What about a salad?', 'Would you like chicken noodle soup?'],\n",
        "    'Dinner': ['How about pasta?', 'What about stir fry?', 'Would you like a grain bowl?']\n",
        "}\n",
        "\n",
        "# 3. Configure Conditional Logic\n",
        "def rec_meals(meals, meal_choice):\n",
        "    meal_choice = meal_choice.capitalize()\n",
        "\n",
        "    if meal_choice in meals:\n",
        "        recommendation = random.choice(meals[meal_choice])\n",
        "        print(recommendation)\n",
        "    else:\n",
        "        print(\"Sorry, not a valid option.\")\n",
        "\n",
        "# Call the function\n",
        "rec_meals(meals, prompt)\n"
      ]
    },
    {
      "cell_type": "code",
      "source": [
        "# Q2: The mailroom has asked you to design a simple payroll program that\n",
        "# calculates a student employee’s gross pay, including any overtime wages. If\n",
        "# any employee works over 20 hours in a week, the mailroom pays them 1.5 times\n",
        "# their regular hourly pay rate for all hours over 20. You should take in the\n",
        "# user’s input for the number of hours worked, and their rate of pay.\n",
        "\n",
        "prompt1 = input(\"What is your employee ID? \")\n",
        "prompt2 = float(input(\"How many hours did you work this week? \"))\n",
        "\n",
        "employee_rates = {\n",
        "    \"E001\": 15.00,\n",
        "    \"E002\": 17.50,\n",
        "    \"E003\": 20.00\n",
        "}\n",
        "\n",
        "# look up emloyee rate and update the payroll dataset\n",
        "def calculate_pay(employee_rates, prompt1, prompt2):\n",
        "  rate = employee_rates[prompt1]   # look up rate\n",
        "  hours = prompt2\n",
        "\n",
        "  if hours <= 20:\n",
        "    gross = hours * rate\n",
        "  else:\n",
        "    gross = (20 * rate) + ((hours - 20) * rate * 1.5)\n",
        "  return gross\n",
        "\n",
        "gross = calculate_pay(employee_rates, prompt1, prompt2)\n",
        "\n",
        "from datetime import date\n",
        "today = date.today().isoformat()\n",
        "payroll = {}\n",
        "payroll[today] = {\"emp_id\": prompt1, \"gross\": gross}"
      ],
      "metadata": {
        "colab": {
          "base_uri": "https://localhost:8080/"
        },
        "id": "ohEDkKY60wYP",
        "outputId": "cc72c35f-de91-4e85-b1f3-36b292d0eecd"
      },
      "execution_count": 20,
      "outputs": [
        {
          "name": "stdout",
          "output_type": "stream",
          "text": [
            "What is your employee ID? E001\n",
            "How many hours did you work this week? 30\n"
          ]
        }
      ]
    },
    {
      "cell_type": "code",
      "source": [
        "# Q3: Write a function named times_ten. The function should accept an argument\n",
        "# and display the product of its argument multiplied times 10.\n",
        "\n",
        "def times_ten(num):\n",
        "  return num * 10\n",
        "\n",
        "times_ten(5)\n"
      ],
      "metadata": {
        "colab": {
          "base_uri": "https://localhost:8080/"
        },
        "id": "YrnCg5pd2R0G",
        "outputId": "360f42c6-f1a6-4409-c696-b6f806451e03"
      },
      "execution_count": 22,
      "outputs": [
        {
          "output_type": "execute_result",
          "data": {
            "text/plain": [
              "50"
            ]
          },
          "metadata": {},
          "execution_count": 22
        }
      ]
    },
    {
      "cell_type": "code",
      "source": [
        "# Q4: Find the errors, debug the program, and then execute to show the output.\n",
        "\n",
        "# def main()\n",
        "#       Calories1 = input( \"How many calories are in the first food?\")\n",
        "#       Calories2 = input( \"How many calories are in the first food?\")\n",
        "#       showCalories(calories1, calories2)\n",
        "\n",
        "# def showCalories()\n",
        "#    print(“The total calories you ate today”, format(calories1 + calories2,.2f))\n",
        "\n",
        "cal_prompt_1 = float(input( \"How many calories are in the first food? \"))\n",
        "cal_prompt_2 = float(input( \"How many calories are in the second food? \"))\n",
        "\n",
        "def showCalories(calories1, calories2):\n",
        "      Calories1 = cal_prompt_1\n",
        "      Calories2 = cal_prompt_2\n",
        "      print(\"The total calories you ate today\", format(Calories1 + Calories2, \".2f\"))\n",
        "\n",
        "showCalories(cal_prompt_1, cal_prompt_2)"
      ],
      "metadata": {
        "colab": {
          "base_uri": "https://localhost:8080/"
        },
        "id": "lrOAhl_i2jXc",
        "outputId": "d30ff488-7cf9-4047-d173-566cb6accda8"
      },
      "execution_count": 31,
      "outputs": [
        {
          "output_type": "stream",
          "name": "stdout",
          "text": [
            "How many calories are in the first food? 20\n",
            "How many calories are in the second food? 30\n",
            "The total calories you ate today 50.00\n"
          ]
        }
      ]
    },
    {
      "cell_type": "code",
      "source": [
        "# Q5: Write a program that uses any loop (while or for) that calculates the\n",
        "# total of the following series of numbers:\n",
        "        #  1/30 + 2/29 + 3/28 ............. + 30/1\n",
        "total = 0\n",
        "for i in range(1, 31):\n",
        "    numerator = i\n",
        "    denominator = 31 - i\n",
        "    term = numerator / denominator\n",
        "    total += term\n",
        "\n",
        "print(total)"
      ],
      "metadata": {
        "colab": {
          "base_uri": "https://localhost:8080/"
        },
        "id": "zX6TpYwp3nT7",
        "outputId": "9cb7106e-6a37-4912-d853-939a1ff1bf7a"
      },
      "execution_count": 36,
      "outputs": [
        {
          "output_type": "stream",
          "name": "stdout",
          "text": [
            "93.84460105853213\n"
          ]
        }
      ]
    },
    {
      "cell_type": "code",
      "source": [
        "# Q6: Write a function that computes the area of a triangle given its base and height.\n",
        "# The formula for an area of a triangle is:\n",
        "# AREA = 1/2 * BASE * HEIGHT\n",
        "\n",
        "# For example, if the base was 5 and the height was 4, the area would be 10.\n",
        "# triangle_area(5, 4)   # should print 10\n",
        "\n",
        "base_input = float(input(\"What is the base of the triangle? \"))\n",
        "height_input = float(input(\"What is the height of the triangle? \"))\n",
        "\n",
        "def triangle_area(base, height):\n",
        "    area = 0.5 * base * height\n",
        "    return area\n",
        "\n",
        "triangle_area(base_input, height_input)\n"
      ],
      "metadata": {
        "id": "ft5qxYI74BwH",
        "outputId": "d00e5df0-5a3e-4f9a-8013-8bcc9a9c282e",
        "colab": {
          "base_uri": "https://localhost:8080/"
        }
      },
      "execution_count": 37,
      "outputs": [
        {
          "name": "stdout",
          "output_type": "stream",
          "text": [
            "What is the base of the triangle? 5\n",
            "What is the height of the triangle? 13\n"
          ]
        },
        {
          "output_type": "execute_result",
          "data": {
            "text/plain": [
              "32.5"
            ]
          },
          "metadata": {},
          "execution_count": 37
        }
      ]
    }
  ]
}