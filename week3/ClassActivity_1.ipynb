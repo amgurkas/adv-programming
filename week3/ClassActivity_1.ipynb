{
  "nbformat": 4,
  "nbformat_minor": 0,
  "metadata": {
    "colab": {
      "provenance": [],
      "history_visible": true,
      "authorship_tag": "ABX9TyNO3Uo4ASi3ns8K3iUl2YVg",
      "include_colab_link": true
    },
    "kernelspec": {
      "name": "python3",
      "display_name": "Python 3"
    },
    "language_info": {
      "name": "python"
    }
  },
  "cells": [
    {
      "cell_type": "markdown",
      "metadata": {
        "id": "view-in-github",
        "colab_type": "text"
      },
      "source": [
        "<a href=\"https://colab.research.google.com/github/amgurkas/adv-programming/blob/main/ClassActivity_1.ipynb\" target=\"_parent\"><img src=\"https://colab.research.google.com/assets/colab-badge.svg\" alt=\"Open In Colab\"/></a>"
      ]
    },
    {
      "cell_type": "code",
      "execution_count": 7,
      "metadata": {
        "id": "PBEk-tgbgL7v"
      },
      "outputs": [],
      "source": [
        "# Write a Python program that allows users to:\n",
        "# 1) Add a student and their grades.\n",
        "# 2) Update a student’s grades. Calculate and display each student’s average grade.\n",
        "# 3) Display all students and their grades in a readable format.\n",
        "# 4) Optional: expand upon the program as you like (time permitting!)\n",
        "# i. Handle edge cases (no grade entered, invalid inputs)\n",
        "# ii. Add a letter grade conversion (93-100 = A, etc)\n",
        "# iii. Menu system to interact with the gradebook\n",
        "\n",
        "# defining gradebook dataset\n",
        "### defining adding a student and grades to the gradebook dataset\n",
        "gradebook = {}\n",
        "\n",
        "def add_student(name, grades):\n",
        "    # Ensure grades is a list\n",
        "    if not isinstance(grades, list):\n",
        "        print(\"Grades must be provided as a list.\")\n",
        "        return\n",
        "    # Check that all items in the list are valid\n",
        "    for g in grades:\n",
        "        if not isinstance(g, (int, float)) or g < 0 or g > 100:\n",
        "            print(f\"Invalid grade detected: {g}\")\n",
        "            return\n",
        "    gradebook[name] = grades\n",
        "    print(f\"Added {name}: {grades}\")\n",
        "\n",
        "# defining updating gradebook dataset\n",
        "def update_grades(name, grade):\n",
        "    if name not in gradebook:\n",
        "        print(f\"{name} not found in gradebook.\")\n",
        "        return\n",
        "    # Validate grade\n",
        "    if not isinstance(grade, (int, float)):\n",
        "        print(\"Invalid grade. Please enter a number.\")\n",
        "        return\n",
        "    if grade < 0 or grade > 100:\n",
        "        print(\"Grade must be between 0 and 100.\")\n",
        "        return\n",
        "    gradebook[name].append(grade)\n",
        "    print(f\"Updated {name}: {gradebook[name]}\")\n",
        "\n",
        "# defining calculating the average grade\n",
        "def calculate_average(name):\n",
        "    if name not in gradebook:\n",
        "        print(f\"{name} not found in gradebook.\")\n",
        "        return\n",
        "        None\n",
        "    grades = gradebook[name]\n",
        "    if len(grades) == 0:\n",
        "        print(f\"{name} has no grades yet.\")\n",
        "        return\n",
        "    avg_grade = sum(grades) / len(grades)\n",
        "    return avg_grade\n",
        "\n",
        "# defining calculating the letter grade\n",
        "def get_letter_grade(grade):\n",
        "    if grade >= 93:\n",
        "        return \"A\"\n",
        "    elif grade >= 90:\n",
        "        return \"A-\"\n",
        "    elif grade >= 87:\n",
        "        return \"B+\"\n",
        "    elif grade >= 83:\n",
        "        return \"B\"\n",
        "    elif grade >= 80:\n",
        "        return \"B-\"\n",
        "    elif grade >= 77:\n",
        "        return \"C+\"\n",
        "    elif grade >= 73:\n",
        "        return \"C\"\n",
        "    elif grade >= 70:\n",
        "        return \"C-\"\n",
        "    elif grade >= 60:\n",
        "        return \"D\"\n",
        "    else:\n",
        "        return \"F\"\n",
        "\n",
        "# defining funct to display grades\n",
        "def display_gradebook():\n",
        "    for student in gradebook:\n",
        "        print(f\"{student}: {grades}\", \"Average:\", {avg_grade} )"
      ]
    }
  ]
}
