{
  "nbformat": 4,
  "nbformat_minor": 0,
  "metadata": {
    "colab": {
      "provenance": [],
      "authorship_tag": "ABX9TyOeazy0H4IrEyGig8kCcVRE",
      "include_colab_link": true
    },
    "kernelspec": {
      "name": "python3",
      "display_name": "Python 3"
    },
    "language_info": {
      "name": "python"
    }
  },
  "cells": [
    {
      "cell_type": "markdown",
      "metadata": {
        "id": "view-in-github",
        "colab_type": "text"
      },
      "source": [
        "<a href=\"https://colab.research.google.com/github/amgurkas/adv-programming/blob/main/week5/DiscussionPost.ipynb\" target=\"_parent\"><img src=\"https://colab.research.google.com/assets/colab-badge.svg\" alt=\"Open In Colab\"/></a>"
      ]
    },
    {
      "cell_type": "code",
      "execution_count": null,
      "metadata": {
        "id": "_TiHE2I-_IoO"
      },
      "outputs": [],
      "source": [
        "# 1. Write a Python class to reverse a string word by word.\n",
        "# Example:\n",
        "# Input string : 'hello .py'\n",
        "# Expected Output : '.py hello'\n",
        "\n",
        "input = \"hello class\"\n",
        "\n",
        "\n",
        "# 2. Write a Python class named Circle constructed by a radius and two methods\n",
        "# which will compute the area and the perimeter of a circle."
      ]
    }
  ]
}