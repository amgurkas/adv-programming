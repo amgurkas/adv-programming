{
  "nbformat": 4,
  "nbformat_minor": 0,
  "metadata": {
    "colab": {
      "provenance": [],
      "authorship_tag": "ABX9TyMvW46x5h8UNEUSAol2ASt/",
      "include_colab_link": true
    },
    "kernelspec": {
      "name": "python3",
      "display_name": "Python 3"
    },
    "language_info": {
      "name": "python"
    }
  },
  "cells": [
    {
      "cell_type": "markdown",
      "metadata": {
        "id": "view-in-github",
        "colab_type": "text"
      },
      "source": [
        "<a href=\"https://colab.research.google.com/github/amgurkas/adv-programming/blob/main/week5/DiscussionPost.ipynb\" target=\"_parent\"><img src=\"https://colab.research.google.com/assets/colab-badge.svg\" alt=\"Open In Colab\"/></a>"
      ]
    },
    {
      "cell_type": "code",
      "execution_count": 6,
      "metadata": {
        "id": "_TiHE2I-_IoO",
        "outputId": "f4415058-9d88-4089-f87d-08481fcbb70f",
        "colab": {
          "base_uri": "https://localhost:8080/"
        }
      },
      "outputs": [
        {
          "output_type": "stream",
          "name": "stdout",
          "text": [
            "class hello\n",
            "12.56\n",
            "12.56\n"
          ]
        }
      ],
      "source": [
        "# 1. Write a Python class to reverse a string word by word.\n",
        "# Example:\n",
        "# Input string : 'hello .py'\n",
        "# Expected Output : '.py hello'\n",
        "\n",
        "class solution:\n",
        "    def reverse_words(self, s):\n",
        "        return ' '.join(reversed(s.split()))\n",
        "\n",
        "input = \"hello class\"\n",
        "print(solution().reverse_words(input))\n",
        "\n",
        "# 2. Write a Python class named Circle constructed by a radius and two methods\n",
        "# which will compute the area and the perimeter of a circle.\n",
        "class Circle():\n",
        "    def __init__(self, r):\n",
        "        self.radius = r\n",
        "\n",
        "    def area(self):\n",
        "        return self.radius**2*3.14\n",
        "\n",
        "    def perimeter(self):\n",
        "        return 2*self.radius*3.14\n",
        "\n",
        "NewCircle = Circle(2)\n",
        "print(NewCircle.area())\n",
        "print(NewCircle.perimeter())\n",
        "\n"
      ]
    }
  ]
}