{
  "nbformat": 4,
  "nbformat_minor": 0,
  "metadata": {
    "colab": {
      "provenance": [],
      "authorship_tag": "ABX9TyO1XewPUsbAZoeR1OZX34Ea",
      "include_colab_link": true
    },
    "kernelspec": {
      "name": "python3",
      "display_name": "Python 3"
    },
    "language_info": {
      "name": "python"
    }
  },
  "cells": [
    {
      "cell_type": "markdown",
      "metadata": {
        "id": "view-in-github",
        "colab_type": "text"
      },
      "source": [
        "<a href=\"https://colab.research.google.com/github/amgurkas/adv-programming/blob/main/ClassActivity_1.ipynb\" target=\"_parent\"><img src=\"https://colab.research.google.com/assets/colab-badge.svg\" alt=\"Open In Colab\"/></a>"
      ]
    },
    {
      "cell_type": "code",
      "execution_count": null,
      "metadata": {
        "id": "PBEk-tgbgL7v"
      },
      "outputs": [],
      "source": [
        "# Write a Python program that allows users to:\n",
        "# 1) Add a student and their grades.\n",
        "# 2) Update a student’s grades. Calculate and display each student’s average grade.\n",
        "# 3) Display all students and their grades in a readable format.\n",
        "# 4) Optional: expand upon the program as you like (time permitting!)\n",
        "# i. Handle edge cases (no grade entered, invalid inputs)\n",
        "# ii. Add a letter grade conversion (93-100 = A, etc)\n",
        "# iii. Menu system to interact with the gradebook\n",
        "\n",
        "gradebook = {}\n",
        "def add_student(name, grades):\n",
        "  gradebook[name] = grades\n",
        "def update_grades(name, grades):\n",
        "  if name in gradebook:\n",
        "    gradebook[name] = grades\n",
        "def calculate_average(name,avg_grade):\n",
        "  if name in gradebook and grades in gradebook:\n",
        "    gradebook[avg_grade] = sum(grades) / len(grades)\n",
        "    print(gradebook[name,avg_grade])\n",
        "  else print(\"Student or grade not in gradebook\")\n",
        "def display_gradebook():\n",
        "# Print all students, their grades, and averages\n",
        "# Example Usage:\n",
        "add_student(\"Alice\", [85,90,78])\n",
        "display_gradebook()"
      ]
    }
  ]
}