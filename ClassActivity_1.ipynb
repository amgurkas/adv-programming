{
  "nbformat": 4,
  "nbformat_minor": 0,
  "metadata": {
    "colab": {
      "provenance": [],
      "authorship_tag": "ABX9TyO2TcI2/SM6mRdlQc9/MC29",
      "include_colab_link": true
    },
    "kernelspec": {
      "name": "python3",
      "display_name": "Python 3"
    },
    "language_info": {
      "name": "python"
    }
  },
  "cells": [
    {
      "cell_type": "markdown",
      "metadata": {
        "id": "view-in-github",
        "colab_type": "text"
      },
      "source": [
        "<a href=\"https://colab.research.google.com/github/amgurkas/adv-programming/blob/main/ClassActivity_1.ipynb\" target=\"_parent\"><img src=\"https://colab.research.google.com/assets/colab-badge.svg\" alt=\"Open In Colab\"/></a>"
      ]
    },
    {
      "cell_type": "code",
      "execution_count": null,
      "metadata": {
        "id": "PBEk-tgbgL7v"
      },
      "outputs": [],
      "source": [
        "gradebook = {}\n",
        "def add_student(name, grades):\n",
        "# Add student to gradebook\n",
        "def update_grades(name, new_grades):\n",
        "# Update student's grades\n",
        "def calculate_average(name):\n",
        "# Calculate and return average grade\n",
        "def display_gradebook():\n",
        "# Print all students, their grades, and averages\n",
        "# Example Usage:\n",
        "add_student(\"Alice\", [85,90,78])\n",
        "display_gradebook()"
      ]
    }
  ]
}